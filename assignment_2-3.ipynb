{
 "cells": [
  {
   "cell_type": "markdown",
   "id": "87b91d83",
   "metadata": {},
   "source": [
    "# Assignment 2\n",
    "### Understanding Uncertainty\n",
    "### Due 9/12\n",
    "\n",
    "Sabine Segaloff"
   ]
  },
  {
   "cell_type": "markdown",
   "id": "380e339f",
   "metadata": {},
   "source": [
    "### Problem 1\n",
    "\n",
    "1. 'State Bottle Retail' is the price at which the bottle is sold, while 'State Bottle Cost' is the price the state pays for a bottle.\n",
    "- How do you define the most profitable item? Why? Explain your thinking.\n",
    "- Use `.groupby` calculations to determine the most profitable liquors sold in Iowa.\n",
    "- Make a plot of the top liquors."
   ]
  },
  {
   "cell_type": "code",
   "execution_count": 18,
   "id": "dcf69e72",
   "metadata": {},
   "outputs": [
    {
     "data": {
      "text/html": [
       "<div>\n",
       "<style scoped>\n",
       "    .dataframe tbody tr th:only-of-type {\n",
       "        vertical-align: middle;\n",
       "    }\n",
       "\n",
       "    .dataframe tbody tr th {\n",
       "        vertical-align: top;\n",
       "    }\n",
       "\n",
       "    .dataframe thead th {\n",
       "        text-align: right;\n",
       "    }\n",
       "</style>\n",
       "<table border=\"1\" class=\"dataframe\">\n",
       "  <thead>\n",
       "    <tr style=\"text-align: right;\">\n",
       "      <th></th>\n",
       "      <th>Invoice/Item Number</th>\n",
       "      <th>Date</th>\n",
       "      <th>Store Number</th>\n",
       "      <th>Store Name</th>\n",
       "      <th>Zip Code</th>\n",
       "      <th>Category Name</th>\n",
       "      <th>Vendor Name</th>\n",
       "      <th>Item Number</th>\n",
       "      <th>Item Description</th>\n",
       "      <th>Bottle Volume (ml)</th>\n",
       "      <th>State Bottle Cost</th>\n",
       "      <th>State Bottle Retail</th>\n",
       "      <th>Bottles Sold</th>\n",
       "      <th>Sale (Dollars)</th>\n",
       "    </tr>\n",
       "  </thead>\n",
       "  <tbody>\n",
       "    <tr>\n",
       "      <th>0</th>\n",
       "      <td>INV-59108400026</td>\n",
       "      <td>06/06/2023</td>\n",
       "      <td>3723</td>\n",
       "      <td>J D SPIRITS LIQUOR</td>\n",
       "      <td>51040</td>\n",
       "      <td>STRAIGHT RYE WHISKIES</td>\n",
       "      <td>INFINIUM SPIRITS</td>\n",
       "      <td>27102</td>\n",
       "      <td>TEMPLETON RYE 4YR</td>\n",
       "      <td>750</td>\n",
       "      <td>18.09</td>\n",
       "      <td>27.14</td>\n",
       "      <td>2</td>\n",
       "      <td>54.28</td>\n",
       "    </tr>\n",
       "    <tr>\n",
       "      <th>1</th>\n",
       "      <td>S16879800057</td>\n",
       "      <td>01/16/2014</td>\n",
       "      <td>3926</td>\n",
       "      <td>LIQUOR DOWNTOWN / IOWA CITY</td>\n",
       "      <td>52240</td>\n",
       "      <td>VODKA 80 PROOF</td>\n",
       "      <td>HEAVEN HILL BRANDS</td>\n",
       "      <td>35416</td>\n",
       "      <td>BURNETT'S VODKA 80 PRF</td>\n",
       "      <td>750</td>\n",
       "      <td>4.84</td>\n",
       "      <td>7.26</td>\n",
       "      <td>12</td>\n",
       "      <td>87.12</td>\n",
       "    </tr>\n",
       "    <tr>\n",
       "      <th>2</th>\n",
       "      <td>INV-05301100019</td>\n",
       "      <td>06/05/2017</td>\n",
       "      <td>3829</td>\n",
       "      <td>GARY'S FOODS / MT VERNON</td>\n",
       "      <td>52314</td>\n",
       "      <td>CANADIAN WHISKIES</td>\n",
       "      <td>DIAGEO AMERICAS</td>\n",
       "      <td>11296</td>\n",
       "      <td>CROWN ROYAL</td>\n",
       "      <td>750</td>\n",
       "      <td>15.59</td>\n",
       "      <td>23.39</td>\n",
       "      <td>6</td>\n",
       "      <td>135.66</td>\n",
       "    </tr>\n",
       "    <tr>\n",
       "      <th>3</th>\n",
       "      <td>INV-40973500083</td>\n",
       "      <td>10/14/2021</td>\n",
       "      <td>5102</td>\n",
       "      <td>WILKIE LIQUORS</td>\n",
       "      <td>52314</td>\n",
       "      <td>AMERICAN SCHNAPPS</td>\n",
       "      <td>JIM BEAM BRANDS</td>\n",
       "      <td>82787</td>\n",
       "      <td>DEKUYPER BUTTERSHOTS</td>\n",
       "      <td>1000</td>\n",
       "      <td>7.87</td>\n",
       "      <td>11.81</td>\n",
       "      <td>12</td>\n",
       "      <td>141.72</td>\n",
       "    </tr>\n",
       "    <tr>\n",
       "      <th>4</th>\n",
       "      <td>INV-17022500013</td>\n",
       "      <td>01/18/2019</td>\n",
       "      <td>2560</td>\n",
       "      <td>HY-VEE FOOD STORE / MARION</td>\n",
       "      <td>52302</td>\n",
       "      <td>WHISKEY LIQUEUR</td>\n",
       "      <td>SAZERAC COMPANY  INC</td>\n",
       "      <td>64863</td>\n",
       "      <td>FIREBALL CINNAMON WHISKEY</td>\n",
       "      <td>200</td>\n",
       "      <td>2.50</td>\n",
       "      <td>3.75</td>\n",
       "      <td>12</td>\n",
       "      <td>45.00</td>\n",
       "    </tr>\n",
       "  </tbody>\n",
       "</table>\n",
       "</div>"
      ],
      "text/plain": [
       "  Invoice/Item Number        Date  Store Number                   Store Name  \\\n",
       "0     INV-59108400026  06/06/2023          3723           J D SPIRITS LIQUOR   \n",
       "1        S16879800057  01/16/2014          3926  LIQUOR DOWNTOWN / IOWA CITY   \n",
       "2     INV-05301100019  06/05/2017          3829     GARY'S FOODS / MT VERNON   \n",
       "3     INV-40973500083  10/14/2021          5102               WILKIE LIQUORS   \n",
       "4     INV-17022500013  01/18/2019          2560   HY-VEE FOOD STORE / MARION   \n",
       "\n",
       "  Zip Code          Category Name           Vendor Name  Item Number  \\\n",
       "0    51040  STRAIGHT RYE WHISKIES      INFINIUM SPIRITS        27102   \n",
       "1    52240         VODKA 80 PROOF    HEAVEN HILL BRANDS        35416   \n",
       "2    52314      CANADIAN WHISKIES       DIAGEO AMERICAS        11296   \n",
       "3    52314      AMERICAN SCHNAPPS       JIM BEAM BRANDS        82787   \n",
       "4    52302        WHISKEY LIQUEUR  SAZERAC COMPANY  INC        64863   \n",
       "\n",
       "            Item Description  Bottle Volume (ml)  State Bottle Cost  \\\n",
       "0          TEMPLETON RYE 4YR                 750              18.09   \n",
       "1     BURNETT'S VODKA 80 PRF                 750               4.84   \n",
       "2                CROWN ROYAL                 750              15.59   \n",
       "3       DEKUYPER BUTTERSHOTS                1000               7.87   \n",
       "4  FIREBALL CINNAMON WHISKEY                 200               2.50   \n",
       "\n",
       "   State Bottle Retail  Bottles Sold  Sale (Dollars)  \n",
       "0                27.14             2           54.28  \n",
       "1                 7.26            12           87.12  \n",
       "2                23.39             6          135.66  \n",
       "3                11.81            12          141.72  \n",
       "4                 3.75            12           45.00  "
      ]
     },
     "execution_count": 18,
     "metadata": {},
     "output_type": "execute_result"
    }
   ],
   "source": [
    "import pandas as pd\n",
    "import numpy as np\n",
    "import matplotlib.pyplot as plt\n",
    "import seaborn as sns\n",
    "\n",
    "iowa_df = pd.read_csv('/Users/sabinesegaloff/Code/UVA_Fall_25/Understanding_Uncertainty_5030/data/iowa.csv') # Iowa Liquor Sales Data\n",
    "iowa_df.head()"
   ]
  },
  {
   "cell_type": "markdown",
   "id": "bd3d8377",
   "metadata": {},
   "source": [
    "#### *How do you define the most profitable item? Why? Explain your thinking.*\n",
    "\n",
    "- As we learned in the class exercise ipynb, we can consider profit and revenue as follows:\n",
    "    - Total Revenue = Price * Quantity\n",
    "    - Total Profit = Markup * Quantity\n",
    "        - Markup = Price - Cost\n",
    "\n",
    "**I would define the most profitable item using Total Profit.** (The difference between gross revenue (here called revenue) and net revenue (here called profit) is that the former doesn't account for the expense incurred by the seller to procure the bottle.)"
   ]
  },
  {
   "cell_type": "code",
   "execution_count": 19,
   "id": "7de4d219",
   "metadata": {},
   "outputs": [
    {
     "data": {
      "text/html": [
       "<div>\n",
       "<style scoped>\n",
       "    .dataframe tbody tr th:only-of-type {\n",
       "        vertical-align: middle;\n",
       "    }\n",
       "\n",
       "    .dataframe tbody tr th {\n",
       "        vertical-align: top;\n",
       "    }\n",
       "\n",
       "    .dataframe thead th {\n",
       "        text-align: right;\n",
       "    }\n",
       "</style>\n",
       "<table border=\"1\" class=\"dataframe\">\n",
       "  <thead>\n",
       "    <tr style=\"text-align: right;\">\n",
       "      <th></th>\n",
       "      <th>Invoice/Item Number</th>\n",
       "      <th>Date</th>\n",
       "      <th>Store Number</th>\n",
       "      <th>Store Name</th>\n",
       "      <th>Zip Code</th>\n",
       "      <th>Category Name</th>\n",
       "      <th>Vendor Name</th>\n",
       "      <th>Item Number</th>\n",
       "      <th>Item Description</th>\n",
       "      <th>Bottle Volume (ml)</th>\n",
       "      <th>State Bottle Cost</th>\n",
       "      <th>State Bottle Retail</th>\n",
       "      <th>Bottles Sold</th>\n",
       "      <th>Sale (Dollars)</th>\n",
       "      <th>Total Revenue</th>\n",
       "      <th>Markup</th>\n",
       "      <th>Total Profit</th>\n",
       "    </tr>\n",
       "  </thead>\n",
       "  <tbody>\n",
       "    <tr>\n",
       "      <th>0</th>\n",
       "      <td>INV-59108400026</td>\n",
       "      <td>06/06/2023</td>\n",
       "      <td>3723</td>\n",
       "      <td>J D SPIRITS LIQUOR</td>\n",
       "      <td>51040</td>\n",
       "      <td>STRAIGHT RYE WHISKIES</td>\n",
       "      <td>INFINIUM SPIRITS</td>\n",
       "      <td>27102</td>\n",
       "      <td>TEMPLETON RYE 4YR</td>\n",
       "      <td>750</td>\n",
       "      <td>18.09</td>\n",
       "      <td>27.14</td>\n",
       "      <td>2</td>\n",
       "      <td>54.28</td>\n",
       "      <td>54.28</td>\n",
       "      <td>9.05</td>\n",
       "      <td>18.10</td>\n",
       "    </tr>\n",
       "    <tr>\n",
       "      <th>1</th>\n",
       "      <td>S16879800057</td>\n",
       "      <td>01/16/2014</td>\n",
       "      <td>3926</td>\n",
       "      <td>LIQUOR DOWNTOWN / IOWA CITY</td>\n",
       "      <td>52240</td>\n",
       "      <td>VODKA 80 PROOF</td>\n",
       "      <td>HEAVEN HILL BRANDS</td>\n",
       "      <td>35416</td>\n",
       "      <td>BURNETT'S VODKA 80 PRF</td>\n",
       "      <td>750</td>\n",
       "      <td>4.84</td>\n",
       "      <td>7.26</td>\n",
       "      <td>12</td>\n",
       "      <td>87.12</td>\n",
       "      <td>87.12</td>\n",
       "      <td>2.42</td>\n",
       "      <td>29.04</td>\n",
       "    </tr>\n",
       "    <tr>\n",
       "      <th>2</th>\n",
       "      <td>INV-05301100019</td>\n",
       "      <td>06/05/2017</td>\n",
       "      <td>3829</td>\n",
       "      <td>GARY'S FOODS / MT VERNON</td>\n",
       "      <td>52314</td>\n",
       "      <td>CANADIAN WHISKIES</td>\n",
       "      <td>DIAGEO AMERICAS</td>\n",
       "      <td>11296</td>\n",
       "      <td>CROWN ROYAL</td>\n",
       "      <td>750</td>\n",
       "      <td>15.59</td>\n",
       "      <td>23.39</td>\n",
       "      <td>6</td>\n",
       "      <td>135.66</td>\n",
       "      <td>140.34</td>\n",
       "      <td>7.80</td>\n",
       "      <td>46.80</td>\n",
       "    </tr>\n",
       "    <tr>\n",
       "      <th>3</th>\n",
       "      <td>INV-40973500083</td>\n",
       "      <td>10/14/2021</td>\n",
       "      <td>5102</td>\n",
       "      <td>WILKIE LIQUORS</td>\n",
       "      <td>52314</td>\n",
       "      <td>AMERICAN SCHNAPPS</td>\n",
       "      <td>JIM BEAM BRANDS</td>\n",
       "      <td>82787</td>\n",
       "      <td>DEKUYPER BUTTERSHOTS</td>\n",
       "      <td>1000</td>\n",
       "      <td>7.87</td>\n",
       "      <td>11.81</td>\n",
       "      <td>12</td>\n",
       "      <td>141.72</td>\n",
       "      <td>141.72</td>\n",
       "      <td>3.94</td>\n",
       "      <td>47.28</td>\n",
       "    </tr>\n",
       "    <tr>\n",
       "      <th>4</th>\n",
       "      <td>INV-17022500013</td>\n",
       "      <td>01/18/2019</td>\n",
       "      <td>2560</td>\n",
       "      <td>HY-VEE FOOD STORE / MARION</td>\n",
       "      <td>52302</td>\n",
       "      <td>WHISKEY LIQUEUR</td>\n",
       "      <td>SAZERAC COMPANY  INC</td>\n",
       "      <td>64863</td>\n",
       "      <td>FIREBALL CINNAMON WHISKEY</td>\n",
       "      <td>200</td>\n",
       "      <td>2.50</td>\n",
       "      <td>3.75</td>\n",
       "      <td>12</td>\n",
       "      <td>45.00</td>\n",
       "      <td>45.00</td>\n",
       "      <td>1.25</td>\n",
       "      <td>15.00</td>\n",
       "    </tr>\n",
       "  </tbody>\n",
       "</table>\n",
       "</div>"
      ],
      "text/plain": [
       "  Invoice/Item Number        Date  Store Number                   Store Name  \\\n",
       "0     INV-59108400026  06/06/2023          3723           J D SPIRITS LIQUOR   \n",
       "1        S16879800057  01/16/2014          3926  LIQUOR DOWNTOWN / IOWA CITY   \n",
       "2     INV-05301100019  06/05/2017          3829     GARY'S FOODS / MT VERNON   \n",
       "3     INV-40973500083  10/14/2021          5102               WILKIE LIQUORS   \n",
       "4     INV-17022500013  01/18/2019          2560   HY-VEE FOOD STORE / MARION   \n",
       "\n",
       "  Zip Code          Category Name           Vendor Name  Item Number  \\\n",
       "0    51040  STRAIGHT RYE WHISKIES      INFINIUM SPIRITS        27102   \n",
       "1    52240         VODKA 80 PROOF    HEAVEN HILL BRANDS        35416   \n",
       "2    52314      CANADIAN WHISKIES       DIAGEO AMERICAS        11296   \n",
       "3    52314      AMERICAN SCHNAPPS       JIM BEAM BRANDS        82787   \n",
       "4    52302        WHISKEY LIQUEUR  SAZERAC COMPANY  INC        64863   \n",
       "\n",
       "            Item Description  Bottle Volume (ml)  State Bottle Cost  \\\n",
       "0          TEMPLETON RYE 4YR                 750              18.09   \n",
       "1     BURNETT'S VODKA 80 PRF                 750               4.84   \n",
       "2                CROWN ROYAL                 750              15.59   \n",
       "3       DEKUYPER BUTTERSHOTS                1000               7.87   \n",
       "4  FIREBALL CINNAMON WHISKEY                 200               2.50   \n",
       "\n",
       "   State Bottle Retail  Bottles Sold  Sale (Dollars)  Total Revenue  Markup  \\\n",
       "0                27.14             2           54.28          54.28    9.05   \n",
       "1                 7.26            12           87.12          87.12    2.42   \n",
       "2                23.39             6          135.66         140.34    7.80   \n",
       "3                11.81            12          141.72         141.72    3.94   \n",
       "4                 3.75            12           45.00          45.00    1.25   \n",
       "\n",
       "   Total Profit  \n",
       "0         18.10  \n",
       "1         29.04  \n",
       "2         46.80  \n",
       "3         47.28  \n",
       "4         15.00  "
      ]
     },
     "execution_count": 19,
     "metadata": {},
     "output_type": "execute_result"
    }
   ],
   "source": [
    "# add a column for total revenue\n",
    "iowa_df['Total Revenue'] = iowa_df['State Bottle Retail'] * iowa_df['Bottles Sold']\n",
    "# add a column for markup\n",
    "iowa_df['Markup'] = iowa_df['State Bottle Retail'] - iowa_df['State Bottle Cost']\n",
    "# add a column for total profit\n",
    "iowa_df['Total Profit'] = iowa_df['Markup'] * iowa_df['Bottles Sold']\n",
    "\n",
    "iowa_df.head()"
   ]
  },
  {
   "cell_type": "markdown",
   "id": "81ad17a7",
   "metadata": {},
   "source": [
    "#### *Use `.groupby` calculations to determine the most profitable liquors sold in Iowa.*"
   ]
  },
  {
   "cell_type": "code",
   "execution_count": 20,
   "id": "938fac6f",
   "metadata": {},
   "outputs": [],
   "source": [
    "# create a dataframe consisting of only the columns for total profit and item description\n",
    "profits = ((iowa_df.loc[:,['Total Profit','Item Description']])\n",
    "         .groupby('Item Description')\n",
    "         .sum()\n",
    "         .sort_values(by='Total Profit',ascending=False))\n",
    "\n",
    "# profits"
   ]
  },
  {
   "cell_type": "code",
   "execution_count": 21,
   "id": "5317adf0",
   "metadata": {},
   "outputs": [
    {
     "data": {
      "text/html": [
       "<div>\n",
       "<style scoped>\n",
       "    .dataframe tbody tr th:only-of-type {\n",
       "        vertical-align: middle;\n",
       "    }\n",
       "\n",
       "    .dataframe tbody tr th {\n",
       "        vertical-align: top;\n",
       "    }\n",
       "\n",
       "    .dataframe thead th {\n",
       "        text-align: right;\n",
       "    }\n",
       "</style>\n",
       "<table border=\"1\" class=\"dataframe\">\n",
       "  <thead>\n",
       "    <tr style=\"text-align: right;\">\n",
       "      <th></th>\n",
       "      <th>Total Profit</th>\n",
       "    </tr>\n",
       "    <tr>\n",
       "      <th>Item Description</th>\n",
       "      <th></th>\n",
       "    </tr>\n",
       "  </thead>\n",
       "  <tbody>\n",
       "    <tr>\n",
       "      <th>TITOS HANDMADE VODKA</th>\n",
       "      <td>364074.35</td>\n",
       "    </tr>\n",
       "    <tr>\n",
       "      <th>BLACK VELVET</th>\n",
       "      <td>274676.85</td>\n",
       "    </tr>\n",
       "    <tr>\n",
       "      <th>FIREBALL CINNAMON WHISKEY</th>\n",
       "      <td>187535.22</td>\n",
       "    </tr>\n",
       "    <tr>\n",
       "      <th>CROWN ROYAL</th>\n",
       "      <td>160981.95</td>\n",
       "    </tr>\n",
       "    <tr>\n",
       "      <th>CROWN ROYAL REGAL APPLE</th>\n",
       "      <td>122880.40</td>\n",
       "    </tr>\n",
       "    <tr>\n",
       "      <th>CAPTAIN MORGAN SPICED RUM</th>\n",
       "      <td>121115.30</td>\n",
       "    </tr>\n",
       "    <tr>\n",
       "      <th>HAWKEYE VODKA</th>\n",
       "      <td>116375.04</td>\n",
       "    </tr>\n",
       "    <tr>\n",
       "      <th>CAPTAIN MORGAN ORIGINAL SPICED</th>\n",
       "      <td>112146.71</td>\n",
       "    </tr>\n",
       "    <tr>\n",
       "      <th>JACK DANIELS OLD #7 BLACK LABEL</th>\n",
       "      <td>111509.09</td>\n",
       "    </tr>\n",
       "    <tr>\n",
       "      <th>HENNESSY VS</th>\n",
       "      <td>108459.45</td>\n",
       "    </tr>\n",
       "    <tr>\n",
       "      <th>JAMESON</th>\n",
       "      <td>101178.98</td>\n",
       "    </tr>\n",
       "    <tr>\n",
       "      <th>JACK DANIELS OLD #7 BLACK LBL</th>\n",
       "      <td>93151.76</td>\n",
       "    </tr>\n",
       "    <tr>\n",
       "      <th>JAGERMEISTER LIQUEUR</th>\n",
       "      <td>83029.62</td>\n",
       "    </tr>\n",
       "    <tr>\n",
       "      <th>JIM BEAM</th>\n",
       "      <td>80760.14</td>\n",
       "    </tr>\n",
       "    <tr>\n",
       "      <th>CROWN ROYAL CANADIAN WHISKY</th>\n",
       "      <td>68448.06</td>\n",
       "    </tr>\n",
       "    <tr>\n",
       "      <th>PATRON SILVER</th>\n",
       "      <td>65958.25</td>\n",
       "    </tr>\n",
       "    <tr>\n",
       "      <th>ABSOLUT SWEDISH VODKA 80 PRF</th>\n",
       "      <td>63313.57</td>\n",
       "    </tr>\n",
       "    <tr>\n",
       "      <th>FIVE O'CLOCK VODKA</th>\n",
       "      <td>54576.75</td>\n",
       "    </tr>\n",
       "    <tr>\n",
       "      <th>MALIBU COCONUT RUM</th>\n",
       "      <td>53551.53</td>\n",
       "    </tr>\n",
       "    <tr>\n",
       "      <th>CAPTAIN MORGAN ORIGINAL SPICED BARREL</th>\n",
       "      <td>52452.25</td>\n",
       "    </tr>\n",
       "  </tbody>\n",
       "</table>\n",
       "</div>"
      ],
      "text/plain": [
       "                                       Total Profit\n",
       "Item Description                                   \n",
       "TITOS HANDMADE VODKA                      364074.35\n",
       "BLACK VELVET                              274676.85\n",
       "FIREBALL CINNAMON WHISKEY                 187535.22\n",
       "CROWN ROYAL                               160981.95\n",
       "CROWN ROYAL REGAL APPLE                   122880.40\n",
       "CAPTAIN MORGAN SPICED RUM                 121115.30\n",
       "HAWKEYE VODKA                             116375.04\n",
       "CAPTAIN MORGAN ORIGINAL SPICED            112146.71\n",
       "JACK DANIELS OLD #7 BLACK LABEL           111509.09\n",
       "HENNESSY VS                               108459.45\n",
       "JAMESON                                   101178.98\n",
       "JACK DANIELS OLD #7 BLACK LBL              93151.76\n",
       "JAGERMEISTER LIQUEUR                       83029.62\n",
       "JIM BEAM                                   80760.14\n",
       "CROWN ROYAL CANADIAN WHISKY                68448.06\n",
       "PATRON SILVER                              65958.25\n",
       "ABSOLUT SWEDISH VODKA 80 PRF               63313.57\n",
       "FIVE O'CLOCK VODKA                         54576.75\n",
       "MALIBU COCONUT RUM                         53551.53\n",
       "CAPTAIN MORGAN ORIGINAL SPICED BARREL      52452.25"
      ]
     },
     "execution_count": 21,
     "metadata": {},
     "output_type": "execute_result"
    }
   ],
   "source": [
    "# make a subset of the dataframe for the top 20 most profitable items\n",
    "top_profits = profits[:20].copy()\n",
    "\n",
    "top_profits"
   ]
  },
  {
   "cell_type": "markdown",
   "id": "049b8287",
   "metadata": {},
   "source": [
    "#### *Make a plot of the top liquors.*"
   ]
  },
  {
   "cell_type": "code",
   "execution_count": 22,
   "id": "08e31f56",
   "metadata": {},
   "outputs": [
    {
     "data": {
      "text/plain": [
       "<Axes: xlabel='Total Profit', ylabel='Item Description'>"
      ]
     },
     "execution_count": 22,
     "metadata": {},
     "output_type": "execute_result"
    },
    {
     "data": {
      "image/png": "[encoded data removed]",
      "text/plain": [
       "<Figure size 640x480 with 1 Axes>"
      ]
     },
     "metadata": {},
     "output_type": "display_data"
    }
   ],
   "source": [
    "# create a bar plot using seaborn of the top 20 most profitable items\n",
    "\n",
    "sns.barplot(top_profits['Total Profit'],orient = 'h')"
   ]
  },
  {
   "cell_type": "markdown",
   "id": "63593bde",
   "metadata": {},
   "source": [
    "### Problem 2\n",
    "\n",
    "2. This question is to further explore broadcasting in NumPy.\n",
    "- In the first code chunk below, there are two vectors, $x$ and $y$. What happens when you try to subtract them?\n",
    "- Instead, try `x.reshape(-1,1)-y.reshape(1,-1)`. What do you get?\n",
    "- Try `x.reshape(1,-1)-y.reshape(-1,1)`. Compare the results to your previous answer.\n",
    "- Write two double for-loops to replicate the results of the previous two answers. \n",
    "- Clearly explain how `x.reshape(1,-1)` and `x.reshape(-1,1)` change $x$"
   ]
  },
  {
   "cell_type": "code",
   "execution_count": 23,
   "id": "e29b3aac",
   "metadata": {},
   "outputs": [],
   "source": [
    "import numpy as np\n",
    "\n",
    "x = np.array([1,3,5])\n",
    "y = np.array([2,5])"
   ]
  },
  {
   "cell_type": "markdown",
   "id": "ab897cfc",
   "metadata": {},
   "source": [
    "#### *In the first code chunk below, there are two vectors, $x$ and $y$. What happens when you try to subtract them?*"
   ]
  },
  {
   "cell_type": "code",
   "execution_count": 24,
   "id": "2f0fbc16",
   "metadata": {},
   "outputs": [],
   "source": [
    "# x - y"
   ]
  },
  {
   "cell_type": "markdown",
   "id": "d8545040",
   "metadata": {},
   "source": [
    "The result is an error message:\n",
    "\n",
    "ValueError: operands could not be broadcast together with shapes (3,) (2,) "
   ]
  },
  {
   "cell_type": "markdown",
   "id": "9591e995",
   "metadata": {},
   "source": [
    "#### *Instead, try `x.reshape(-1,1)-y.reshape(1,-1)`. What do you get?*"
   ]
  },
  {
   "cell_type": "code",
   "execution_count": 25,
   "id": "617a1574",
   "metadata": {},
   "outputs": [
    {
     "data": {
      "text/plain": [
       "array([[-1, -4],\n",
       "       [ 1, -2],\n",
       "       [ 3,  0]])"
      ]
     },
     "execution_count": 25,
     "metadata": {},
     "output_type": "execute_result"
    }
   ],
   "source": [
    "x.reshape(-1,1) - y.reshape(1,-1)"
   ]
  },
  {
   "cell_type": "markdown",
   "id": "e5a8ab75",
   "metadata": {},
   "source": [
    "Here we have turned x into a row vector and y into a column vector and we broadcast x horizontally across columns and y vertically across rows.\n",
    "\n",
    "We end up with a (3,2) array:\n",
    "$$\\left[\\begin{array}{c} (1-2) & (1-5) \\\\ (3-2) & (3-5) \\\\ (5-2) & (5-5) \\end{array}\\right] = \\left[\\begin{array}{c} -1 & -4 \\\\ 1 & -2 \\\\ 3 & 0 \\end{array}\\right]$$"
   ]
  },
  {
   "cell_type": "markdown",
   "id": "445450f7",
   "metadata": {},
   "source": [
    "#### *Try `x.reshape(1,-1)-y.reshape(-1,1)`. Compare the results to your previous answer.*"
   ]
  },
  {
   "cell_type": "code",
   "execution_count": 26,
   "id": "4f252bac",
   "metadata": {},
   "outputs": [
    {
     "data": {
      "text/plain": [
       "array([[-1,  1,  3],\n",
       "       [-4, -2,  0]])"
      ]
     },
     "execution_count": 26,
     "metadata": {},
     "output_type": "execute_result"
    }
   ],
   "source": [
    "x.reshape(1,-1) - y.reshape(-1,1)"
   ]
  },
  {
   "cell_type": "markdown",
   "id": "4817b7f8",
   "metadata": {},
   "source": [
    "Here we have turned x into a column vector and y into a row vector and we broadcast x vertically across rows and y horizontally across columns.\n",
    "\n",
    "We end up with a (2,3) array:\n",
    "$$\\left[\\begin{array}{c} (1-2) & (3-2) & (5-2)\\\\ (1-5) & (3-5) & (5-5)\\end{array}\\right] = \\left[\\begin{array}{c} -1 & 1 & 3 \\\\ -4 & -2 & 0 \\end{array}\\right]$$\n",
    "\n"
   ]
  },
  {
   "cell_type": "markdown",
   "id": "1d0daf52",
   "metadata": {},
   "source": [
    "#### *Write two double for-loops to replicate the results of the previous two answers.*"
   ]
  },
  {
   "cell_type": "code",
   "execution_count": 27,
   "id": "4b26e344",
   "metadata": {},
   "outputs": [
    {
     "name": "stdout",
     "output_type": "stream",
     "text": [
      "[[-1 -4]\n",
      " [ 1 -2]\n",
      " [ 3  0]]\n",
      " \n",
      "[[-1  1  3]\n",
      " [-4 -2  0]]\n"
     ]
    }
   ],
   "source": [
    "# x.reshape(-1,1) - y.reshape(1,-1)\n",
    "ans1 = np.zeros((len(x),len(y)), dtype=int)\n",
    "for i in range(len(x)):\n",
    "    for j in range(len(y)):\n",
    "        ans1[i,j] = x[i] - y[j]\n",
    "print(ans1)\n",
    "\n",
    "print(' ')\n",
    "\n",
    "# x.reshape(1,-1) - y.reshape(-1,1)\n",
    "ans2 = np.zeros((len(y),len(x)), dtype=int)\n",
    "for i in range(len(y)):\n",
    "    for j in range(len(x)):\n",
    "        ans2[i,j] = x[j] - y[i]\n",
    "print(ans2)"
   ]
  },
  {
   "cell_type": "markdown",
   "id": "4ef136a8",
   "metadata": {},
   "source": [
    "#### *Clearly explain how `x.reshape(1,-1)` and `x.reshape(-1,1)` change $x$*"
   ]
  },
  {
   "cell_type": "markdown",
   "id": "eadc64d2",
   "metadata": {},
   "source": [
    "x is a 1D array with shape (3, ): $\\begin{array}{c}[ 1 & 3 & 5]\\end{array}$\n",
    "\n",
    "x.reshape(1,-1) produces 2D array with shape (1, 3): $\\begin{array}{c}[[1] & [3] & [5]]\\end{array}$\n",
    "\n",
    "The 1 sets the first dimension to 1. The -1 instructs NumPy to calculate the size for the second dimension based on the total number of elements in x. So we end up with 1 row and 3 columns. This reshaping has turned x into a row vector.\n",
    "\n",
    "x.reshape(1,-1) produces a 2D array with shape (3, 1): $\\begin{array}{c}[[1] \\\\ [3] \\\\ [5]]\\end{array}$\n",
    "\n",
    "The -1 instructs NumPy to calculate the size for the first dimension based on the total number of elements in x. The 1 sets the second dimension to 1. So we end up with 3 rows and 1 column. This reshaping has turned x into a column vector.\n"
   ]
  },
  {
   "cell_type": "markdown",
   "id": "b29f1d35",
   "metadata": {},
   "source": [
    "### Problem 3\n",
    "\n",
    "3. The indicator function $\\mathbb{I}\\{ x \\le z \\}$ takes the value 0 if $x>z$ and 1 if $x \\le z$ is true, or\n",
    "$$\n",
    "\\mathbb{I}\\{x \\le z\\} = \\begin{cases}\n",
    "0, &x > z \\\\\n",
    "1, &x \\le z\n",
    "\\end{cases}\n",
    "$$\n",
    "\n",
    "- For $x = 3$, plot the indicator function for any $z$\n",
    "- Explain how $ 1- \\mathbb{I}\\{ x \\le z \\} = \\mathbb{I}\\{ x > z \\}$. Drawing a plot might help, or looking at the definition given above.\n",
    "- The code below generates a random sample for different numbers of observations, $N = 3, 30, 300, 3000 $. Write a function to compute the ECDF curve for each sample, and plot your results.\n",
    "- Describe in your own words what happens to the ECDF qualitatively as the sample size $N$ increases"
   ]
  },
  {
   "cell_type": "code",
   "execution_count": 29,
   "id": "17ad7d01",
   "metadata": {},
   "outputs": [],
   "source": [
    "import numpy as np\n",
    "import seaborn as sns\n",
    "\n",
    "rng = np.random.default_rng(100)\n",
    "\n",
    "for N in (3,30,300,3000):\n",
    "    X = rng.normal(0,1,N)\n",
    "    # ECDF plot goes here:\n"
   ]
  },
  {
   "cell_type": "markdown",
   "id": "dcf6bcd8",
   "metadata": {},
   "source": [
    "#### *For $x = 3$, plot the indicator function for any $z$*"
   ]
  },
  {
   "cell_type": "code",
   "execution_count": null,
   "id": "49e30ea7",
   "metadata": {},
   "outputs": [],
   "source": []
  },
  {
   "cell_type": "markdown",
   "id": "9071351a",
   "metadata": {},
   "source": [
    "#### *Explain how $ 1- \\mathbb{I}\\{ x \\le z \\} = \\mathbb{I}\\{ x > z \\}$. Drawing a plot might help, or looking at the definition given above.*"
   ]
  },
  {
   "cell_type": "code",
   "execution_count": null,
   "id": "be1eb920",
   "metadata": {},
   "outputs": [],
   "source": []
  },
  {
   "cell_type": "markdown",
   "id": "428203c4",
   "metadata": {},
   "source": [
    "#### *The code below generates a random sample for different numbers of observations, $N = 3, 30, 300, 3000 $. Write a function to compute the ECDF curve for each sample, and plot your results.*"
   ]
  },
  {
   "cell_type": "code",
   "execution_count": null,
   "id": "5dd6ed3c",
   "metadata": {},
   "outputs": [],
   "source": []
  },
  {
   "cell_type": "markdown",
   "id": "b30f8722",
   "metadata": {},
   "source": [
    "#### *Describe in your own words what happens to the ECDF qualitatively as the sample size $N$ increases*"
   ]
  },
  {
   "cell_type": "markdown",
   "id": "6c8f1ebb",
   "metadata": {},
   "source": [
    "### Problem 4\n",
    "\n",
    "4. A **quantile** generalizes the concept of the median so that instead of 50% of the mass below and 50% above, the $q$-quantile is the value for which $q$ proportion of the data are below that value and $(1-q)$ proportion of the data are above that value. This is a concept of **order**.\n",
    "\n",
    "- Write a function that computes any quantile without using Numpy's `np.quantile`\n",
    "- Write a function that computes the **Interquartile Range (IQR)** -- the .25 quantile and the .75 quantile, which brackets 50% of the data -- and the **whiskers**: $\\pm 1.5 \\times \\text{IQR}$ from the edges of the IQR\n",
    "- Write a function that computes a five-number summary and values for a boxplot: the minimum, the .25 quantile, the median, the .75 quantile, and the maximum, and the whiskers\n",
    "- Anything outside the whiskers is an **outlier**; write a function that returns a Boolean vector indicating if the observations are outliers.\n",
    "- For a numeric variable of your choice from one of the datasets, apply your functions from above, and compare your answers with `sns.boxplot` and `df.describe`. "
   ]
  },
  {
   "cell_type": "markdown",
   "id": "99f4c407",
   "metadata": {},
   "source": [
    "### Problem 5\n",
    "\n",
    "5. The kernel density estimator captures the concentration of the data around various points, and is defined as\n",
    "$$\n",
    "\\hat{f}_{N,h}(z) = \\frac{1}{N} \\sum_{i=1}^N \\frac{1}{h} k \\left( \\frac{x_i - z}{h}\\right)\n",
    "$$\n",
    "where $h$ is the bandwidth and $k()$ is one of the kernel functions from the class materials (Gaussian, Epanechnikov, uniform, triangular).\n",
    "\n",
    "- Write a function that takes the bandwidth $h$ as given, and computes and plots $\\hat{f}_{N,h}(z)$, for the kernels listed in the slides\n",
    "- Write a function that computes the plug-in bandwidth\n",
    "- Use your functions to analyze some numeric variables from a dataset of your choice, using a variety of bandwidths\n",
    "- Compare bandwidths that are greater or less than the plug-in value with the results for the plug-in value. When does the KDE appear to be overfitting? Underfitting?"
   ]
  }
 ],
 "metadata": {
  "kernelspec": {
   "display_name": "ds5030",
   "language": "python",
   "name": "python3"
  },
  "language_info": {
   "codemirror_mode": {
    "name": "ipython",
    "version": 3
   },
   "file_extension": ".py",
   "mimetype": "text/x-python",
   "name": "python",
   "nbconvert_exporter": "python",
   "pygments_lexer": "ipython3",
   "version": "3.13.5"
  }
 },
 "nbformat": 4,
 "nbformat_minor": 5
}
